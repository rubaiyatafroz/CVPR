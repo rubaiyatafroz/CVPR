{
  "nbformat": 4,
  "nbformat_minor": 5,
  "metadata": {
    "kernelspec": {
      "display_name": "cvpr tf2.4 py3.8",
      "language": "python",
      "name": "cvpr"
    },
    "language_info": {
      "codemirror_mode": {
        "name": "ipython",
        "version": 3
      },
      "file_extension": ".py",
      "mimetype": "text/x-python",
      "name": "python",
      "nbconvert_exporter": "python",
      "pygments_lexer": "ipython3",
      "version": "3.8.10"
    },
    "colab": {
      "name": "Group-7(Resnet).ipynb",
      "provenance": []
    }
  },
  "cells": [
    {
      "cell_type": "code",
      "metadata": {
        "id": "ef304a83"
      },
      "source": [
        "import tensorflow as tf\n",
        "from tensorflow import keras\n",
        "from tensorflow.keras import layers\n",
        "import matplotlib.pyplot as plt"
      ],
      "id": "ef304a83",
      "execution_count": null,
      "outputs": []
    },
    {
      "cell_type": "code",
      "metadata": {
        "id": "3db5488d",
        "outputId": "af4af77d-744b-4cef-db2b-c39322859a75"
      },
      "source": [
        "gpu_device = tf.config.experimental.list_physical_devices('GPU')\n",
        "print(f\"Number of GPU = {len(gpu_device)}\")\n",
        "tf.config.experimental.set_memory_growth(gpu_device[0], True)"
      ],
      "id": "3db5488d",
      "execution_count": null,
      "outputs": [
        {
          "name": "stdout",
          "output_type": "stream",
          "text": [
            "Number of GPU = 1\n"
          ]
        }
      ]
    },
    {
      "cell_type": "code",
      "metadata": {
        "id": "92515f28"
      },
      "source": [
        "model = keras.Sequential([\n",
        "    keras.Input(shape=(64, 64, 3)),\n",
        "    layers.Conv2D(filters=64, kernel_size=(7,7), strides=(2,2), activation=\"relu\"),\n",
        "    layers.MaxPooling2D(pool_size=(3,3), strides=(2,2)),\n",
        "    \n",
        "    layers.Conv2D(filters=64, kernel_size=(1,1)),\n",
        "    layers.Conv2D(filters=64, kernel_size=(3,3)),\n",
        "    layers.Conv2D(filters=256, kernel_size=(1,1)),\n",
        "    \n",
        "    layers.Conv2D(filters=64, kernel_size=(1,1)),\n",
        "    layers.Conv2D(filters=64, kernel_size=(3,3)),\n",
        "    layers.Conv2D(filters=256, kernel_size=(1,1)),\n",
        "    \n",
        "    layers.Conv2D(filters=64, kernel_size=(1,1)),\n",
        "    layers.Conv2D(filters=64, kernel_size=(3,3)),\n",
        "    layers.Conv2D(filters=256, kernel_size=(1,1)),\n",
        "    \n",
        "    layers.Conv2D(filters=128, kernel_size=(1,1)),\n",
        "    layers.Conv2D(filters=128, kernel_size=(3,3)),\n",
        "    layers.Conv2D(filters=512, kernel_size=(1,1)),\n",
        "    \n",
        "    layers.Conv2D(filters=128, kernel_size=(1,1)),\n",
        "    layers.Conv2D(filters=128, kernel_size=(3,3)),\n",
        "    layers.Conv2D(filters=512, kernel_size=(1,1)),\n",
        "    \n",
        "    layers.Conv2D(filters=128, kernel_size=(1,1)),\n",
        "    layers.Conv2D(filters=128, kernel_size=(3,3)),\n",
        "    layers.Conv2D(filters=512, kernel_size=(1,1)),\n",
        "    \n",
        "    layers.Conv2D(filters=128, kernel_size=(1,1)),\n",
        "    layers.Conv2D(filters=128, kernel_size=(3,3)),\n",
        "    layers.Conv2D(filters=512, kernel_size=(1,1)),\n",
        "    \n",
        "    layers.Conv2D(filters=128, kernel_size=(1,1)),\n",
        "    layers.Conv2D(filters=128, kernel_size=(3,3)),\n",
        "    layers.Conv2D(filters=512, kernel_size=(1,1)),\n",
        "    \n",
        "    layers.Conv2D(filters=256, kernel_size=(1,1)),\n",
        "    layers.Conv2D(filters=256, kernel_size=(3,3)),\n",
        "    layers.Conv2D(filters=1024, kernel_size=(1,1)),\n",
        "\n",
        "    layers.Conv2D(filters=256, kernel_size=(1,1)),\n",
        "    layers.Conv2D(filters=256, kernel_size=(3,3)),\n",
        "    layers.Conv2D(filters=1024, kernel_size=(1,1)),\n",
        "\n",
        "    layers.Conv2D(filters=256, kernel_size=(1,1)),\n",
        "    layers.Conv2D(filters=256, kernel_size=(3,3)),\n",
        "    layers.Conv2D(filters=1024, kernel_size=(1,1)),\n",
        "\n",
        "    layers.Conv2D(filters=256, kernel_size=(1,1)),\n",
        "    layers.Conv2D(filters=256, kernel_size=(3,3)),\n",
        "    layers.Conv2D(filters=1024, kernel_size=(1,1)),\n",
        "\n",
        "    layers.Conv2D(filters=256, kernel_size=(1,1)),\n",
        "    layers.Conv2D(filters=256, kernel_size=(3,3)),\n",
        "    layers.Conv2D(filters=1024, kernel_size=(1,1)),\n",
        "\n",
        "    layers.Conv2D(filters=256, kernel_size=(1,1)),\n",
        "    layers.Conv2D(filters=256, kernel_size=(3,3)),\n",
        "    layers.Conv2D(filters=1024, kernel_size=(1,1)),\n",
        "\n",
        "    layers.Conv2D(filters=512, kernel_size=(1,1)),\n",
        "    layers.Conv2D(filters=512, kernel_size=(3,3)),\n",
        "    layers.Conv2D(filters=2048, kernel_size=(1,1)),\n",
        "\n",
        "    layers.Conv2D(filters=512, kernel_size=(1,1)),\n",
        "    layers.Conv2D(filters=512, kernel_size=(3,3)),\n",
        "    layers.Conv2D(filters=2048, kernel_size=(1,1)),\n",
        "\n",
        "    layers.Conv2D(filters=512, kernel_size=(1,1)),\n",
        "    layers.Conv2D(filters=512, kernel_size=(3,3)),\n",
        "    layers.Conv2D(filters=2048, kernel_size=(1,1)),\n",
        "\n",
        "    layers.Conv2D(filters=512, kernel_size=(1,1)),\n",
        "    layers.Conv2D(filters=512, kernel_size=(3,3)),\n",
        "    layers.Conv2D(filters=2048, kernel_size=(1,1)),\n",
        "\n",
        "    layers.Conv2D(filters=512, kernel_size=(1,1)),\n",
        "    layers.Conv2D(filters=512, kernel_size=(3,3)),\n",
        "    layers.Conv2D(filters=2048, kernel_size=(1,1)),\n",
        "\n",
        "    layers.Conv2D(filters=512, kernel_size=(1,1)),\n",
        "    layers.Conv2D(filters=512, kernel_size=(3,3)),\n",
        "    layers.Conv2D(filters=2048, kernel_size=(1,1)),\n",
        "\n",
        "    layers.Conv2D(filters=512, kernel_size=(1,1)),\n",
        "    layers.Conv2D(filters=512, kernel_size=(3,3)),\n",
        "    layers.Conv2D(filters=2048, kernel_size=(1,1)),\n",
        "\n",
        "    layers.Conv2D(filters=512, kernel_size=(1,1)),\n",
        "    layers.Conv2D(filters=512, kernel_size=(3,3)),\n",
        "    layers.Conv2D(filters=2048, kernel_size=(1,1)),\n",
        "\n",
        "    layers.Conv2D(filters=512, kernel_size=(1,1)),\n",
        "    layers.Conv2D(filters=512, kernel_size=(3,3)),\n",
        "    layers.Conv2D(filters=2048, kernel_size=(1,1)),\n",
        "\n",
        "    \n",
        "    layers.AveragePooling2D((2,2))\n",
        "    layers.Dense(1000, activation='softmax', kernel_initializer='he_normal')\n",
        "])"
      ],
      "id": "92515f28",
      "execution_count": null,
      "outputs": []
    }
  ]
}